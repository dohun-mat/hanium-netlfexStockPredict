{
 "cells": [
  {
   "cell_type": "code",
   "execution_count": 5,
   "id": "0c4f8374",
   "metadata": {},
   "outputs": [],
   "source": [
    "# https://aytekin.tistory.com/48"
   ]
  },
  {
   "cell_type": "code",
   "execution_count": 6,
   "id": "689026e1",
   "metadata": {},
   "outputs": [],
   "source": [
    "news_url = 'https://search.naver.com/search.naver?where=news&sm=tab_jum&query=넷플릭스'"
   ]
  },
  {
   "cell_type": "code",
   "execution_count": 7,
   "id": "b1ed7e29",
   "metadata": {},
   "outputs": [],
   "source": [
    "from selenium import webdriver\n",
    "from selenium.webdriver.common.keys import Keys\n",
    "from tqdm import tqdm\n",
    "import time\n",
    "import requests\n",
    "from bs4 import BeautifulSoup"
   ]
  },
  {
   "cell_type": "code",
   "execution_count": 8,
   "id": "84982b21",
   "metadata": {},
   "outputs": [
    {
     "name": "stderr",
     "output_type": "stream",
     "text": [
      "C:\\Users\\LG\\AppData\\Local\\Temp\\ipykernel_20112\\2677466089.py:1: DeprecationWarning: executable_path has been deprecated, please pass in a Service object\n",
      "  driver = webdriver.Chrome('D:\\chromeDriver\\chromedriver_win32\\chromedriver.exe')\n",
      "C:\\Users\\LG\\AppData\\Local\\Temp\\ipykernel_20112\\2677466089.py:7: DeprecationWarning: find_element_by_xpath is deprecated. Please use find_element(by=By.XPATH, value=xpath) instead\n",
      "  elem_option = driver.find_element_by_xpath('//*[@id=\"snb\"]/div[1]/div/div[2]/a')\n",
      "C:\\Users\\LG\\AppData\\Local\\Temp\\ipykernel_20112\\2677466089.py:12: DeprecationWarning: find_element_by_xpath is deprecated. Please use find_element(by=By.XPATH, value=xpath) instead\n",
      "  elem_input = driver.find_element_by_xpath('//*[@id=\"snb\"]/div[2]/ul/li[2]/div/div[1]/a[9]')\n"
     ]
    }
   ],
   "source": [
    "driver = webdriver.Chrome('D:\\chromeDriver\\chromedriver_win32\\chromedriver.exe')\n",
    "\n",
    "#코로나로 검색\n",
    "driver.get(news_url)\n",
    "\n",
    "# 옵션 클릭.\n",
    "elem_option = driver.find_element_by_xpath('//*[@id=\"snb\"]/div[1]/div/div[2]/a')\n",
    "# elem_option.send_keys('\\n')\n",
    "elem_option.send_keys(Keys.ENTER)\n",
    "\n",
    "# # 직접입력 클릭.\n",
    "elem_input = driver.find_element_by_xpath('//*[@id=\"snb\"]/div[2]/ul/li[2]/div/div[1]/a[9]')\n",
    "elem_input.send_keys('\\n')\n",
    "\n",
    "naver_news_link = []"
   ]
  },
  {
   "cell_type": "code",
   "execution_count": 9,
   "id": "643502bf",
   "metadata": {},
   "outputs": [],
   "source": [
    "def select_date_naver_news(year,month,day):\n",
    "\n",
    "    '''네이버뉴스에서 원하는 날짜의 뉴스를 검색해서 네이버뉴스 링크를 리스트로 return.'''\n",
    "    \n",
    "    # 연(year) 클릭하기\n",
    "    elem_year = driver.find_element_by_xpath(f'//*[@id=\"snb\"]/div[2]/ul/li[2]/div/div[3]/div[2]/div[1]/div/div/div/ul/li[{year-1989}]')\n",
    "    elem_year.click()\n",
    "\n",
    "    # 월(month) 클릭하기\n",
    "    elem_month = driver.find_element_by_xpath(f'//*[@id=\"snb\"]/div[2]/ul/li[2]/div/div[3]/div[2]/div[2]/div/div/div/ul/li[{month}]')\n",
    "    elem_month.click()\n",
    "\n",
    "    # # 날짜(day) 클릭하기\n",
    "    elem_day = driver.find_element_by_xpath(f'//*[@id=\"snb\"]/div[2]/ul/li[2]/div/div[3]/div[2]/div[3]/div/div/div/ul/li[{day}]')\n",
    "    elem_day.click()\n",
    "\n",
    "    # 끝나는 날짜 클릭하기\n",
    "    driver.find_element_by_xpath('//*[@id=\"snb\"]/div[2]/ul/li[2]/div/div[3]/div[1]/span[3]/a').click()\n",
    "\n",
    "    # 연(year) 클릭하기\n",
    "    elem_year = driver.find_element_by_xpath(f'//*[@id=\"snb\"]/div[2]/ul/li[2]/div/div[3]/div[2]/div[1]/div/div/div/ul/li[{year-1989}]')\n",
    "    elem_year.click()\n",
    "\n",
    "    # 월(month) 클릭하기\n",
    "    elem_month = driver.find_element_by_xpath(f'//*[@id=\"snb\"]/div[2]/ul/li[2]/div/div[3]/div[2]/div[2]/div/div/div/ul/li[{month}]')\n",
    "    elem_month.click()\n",
    "\n",
    "    # # 날짜(day) 클릭하기\n",
    "    elem_day = driver.find_element_by_xpath(f'//*[@id=\"snb\"]/div[2]/ul/li[2]/div/div[3]/div[2]/div[3]/div/div/div/ul/li[{day}]')\n",
    "    elem_day.click()\n",
    "\n",
    "    # 적용 클릭\n",
    "    driver.find_element_by_xpath('//*[@id=\"snb\"]/div[2]/ul/li[2]/div/div[3]/div[3]/button').click()\n",
    "\n",
    "    naver_news_link = driver.find_elements_by_link_text('네이버뉴스')\n",
    "    links = [link.get_attribute('href') for link in naver_news_link]\n",
    "\n",
    "    # 옵션 초기화 버튼 클릭 \n",
    "    driver.find_element_by_xpath('//*[@id=\"snb\"]/div[2]/ul/li[6]/div/div/a[1]').click()\n",
    "    \n",
    "    time.sleep(100)\n",
    "\n",
    "    # 직접입력 클릭.\n",
    "    elem_input = driver.find_element_by_xpath('/html/body/div[3]/div[2]/div/div[1]/div[1]/div[2]/ul/li[2]/div/div[1]/a[9]')\n",
    "    elem_input.send_keys(Keys.ENTER)\n",
    "    \n",
    "    return links"
   ]
  },
  {
   "cell_type": "code",
   "execution_count": 10,
   "id": "dc4ca501",
   "metadata": {},
   "outputs": [],
   "source": [
    "# # 2020년 1월부터 ~ 2021 11월 현재까지 2년치 네이버 뉴스데이터 기사 크롤링\n",
    "# for year in tqdm(range(2020,2022),desc='preprocessing year'):\n",
    "#     for month in tqdm(range(1,13),desc='preprocessing month'):\n",
    "#         for day in tqdm(range(1,32),desc='preprocessing day'):\n",
    "# #             try:\n",
    "#                 res = select_date_naver_news(year=year,month=month,day=day)\n",
    "#                 naver_news_link.append(res)\n",
    "#                 print(res)\n",
    "# #             except:\n",
    "# #                 print(\"endend\")\n",
    "# #                 pass"
   ]
  },
  {
   "cell_type": "code",
   "execution_count": 11,
   "id": "a631343c",
   "metadata": {},
   "outputs": [],
   "source": [
    "# # 2020년 1월부터 ~ 2021 11월 현재까지 2년치 네이버 뉴스데이터 기사 크롤링\n",
    "# for year in tqdm(range(2020,2021),desc='preprocessing year'):\n",
    "#     for month in tqdm(range(1,13),desc='preprocessing month'):\n",
    "#         for day in tqdm(range(1,32),desc='preprocessing day'):\n",
    "#             try:\n",
    "#                 res = select_date_naver_news(year=year,month=month,day=day)\n",
    "#                 naver_news_link.append(res)\n",
    "#                 print(res)\n",
    "#             except:\n",
    "#                 print(\"endend\")\n",
    "#                 pass"
   ]
  },
  {
   "cell_type": "code",
   "execution_count": null,
   "id": "fc5a3b16",
   "metadata": {},
   "outputs": [
    {
     "name": "stderr",
     "output_type": "stream",
     "text": [
      "preprocessing year:   0%|                                                                        | 0/1 [00:00<?, ?it/s]\n",
      "preprocessing month:   0%|                                                                       | 0/1 [00:00<?, ?it/s]\u001b[A\n",
      "\n",
      "preprocessing day:   0%|                                                                         | 0/9 [00:00<?, ?it/s]\u001b[A\u001b[AC:\\Users\\LG\\AppData\\Local\\Temp\\ipykernel_20112\\2816776095.py:6: DeprecationWarning: find_element_by_xpath is deprecated. Please use find_element(by=By.XPATH, value=xpath) instead\n",
      "  elem_year = driver.find_element_by_xpath(f'//*[@id=\"snb\"]/div[2]/ul/li[2]/div/div[3]/div[2]/div[1]/div/div/div/ul/li[{year-1989}]')\n",
      "C:\\Users\\LG\\AppData\\Local\\Temp\\ipykernel_20112\\2816776095.py:10: DeprecationWarning: find_element_by_xpath is deprecated. Please use find_element(by=By.XPATH, value=xpath) instead\n",
      "  elem_month = driver.find_element_by_xpath(f'//*[@id=\"snb\"]/div[2]/ul/li[2]/div/div[3]/div[2]/div[2]/div/div/div/ul/li[{month}]')\n",
      "C:\\Users\\LG\\AppData\\Local\\Temp\\ipykernel_20112\\2816776095.py:14: DeprecationWarning: find_element_by_xpath is deprecated. Please use find_element(by=By.XPATH, value=xpath) instead\n",
      "  elem_day = driver.find_element_by_xpath(f'//*[@id=\"snb\"]/div[2]/ul/li[2]/div/div[3]/div[2]/div[3]/div/div/div/ul/li[{day}]')\n",
      "C:\\Users\\LG\\AppData\\Local\\Temp\\ipykernel_20112\\2816776095.py:18: DeprecationWarning: find_element_by_xpath is deprecated. Please use find_element(by=By.XPATH, value=xpath) instead\n",
      "  driver.find_element_by_xpath('//*[@id=\"snb\"]/div[2]/ul/li[2]/div/div[3]/div[1]/span[3]/a').click()\n",
      "C:\\Users\\LG\\AppData\\Local\\Temp\\ipykernel_20112\\2816776095.py:21: DeprecationWarning: find_element_by_xpath is deprecated. Please use find_element(by=By.XPATH, value=xpath) instead\n",
      "  elem_year = driver.find_element_by_xpath(f'//*[@id=\"snb\"]/div[2]/ul/li[2]/div/div[3]/div[2]/div[1]/div/div/div/ul/li[{year-1989}]')\n",
      "C:\\Users\\LG\\AppData\\Local\\Temp\\ipykernel_20112\\2816776095.py:25: DeprecationWarning: find_element_by_xpath is deprecated. Please use find_element(by=By.XPATH, value=xpath) instead\n",
      "  elem_month = driver.find_element_by_xpath(f'//*[@id=\"snb\"]/div[2]/ul/li[2]/div/div[3]/div[2]/div[2]/div/div/div/ul/li[{month}]')\n",
      "C:\\Users\\LG\\AppData\\Local\\Temp\\ipykernel_20112\\2816776095.py:29: DeprecationWarning: find_element_by_xpath is deprecated. Please use find_element(by=By.XPATH, value=xpath) instead\n",
      "  elem_day = driver.find_element_by_xpath(f'//*[@id=\"snb\"]/div[2]/ul/li[2]/div/div[3]/div[2]/div[3]/div/div/div/ul/li[{day}]')\n",
      "C:\\Users\\LG\\AppData\\Local\\Temp\\ipykernel_20112\\2816776095.py:33: DeprecationWarning: find_element_by_xpath is deprecated. Please use find_element(by=By.XPATH, value=xpath) instead\n",
      "  driver.find_element_by_xpath('//*[@id=\"snb\"]/div[2]/ul/li[2]/div/div[3]/div[3]/button').click()\n",
      "C:\\Users\\LG\\AppData\\Local\\Temp\\ipykernel_20112\\2816776095.py:35: DeprecationWarning: find_elements_by_link_text is deprecated. Please use find_elements(by=By.LINK_TEXT, value=text) instead\n",
      "  naver_news_link = driver.find_elements_by_link_text('네이버뉴스')\n",
      "C:\\Users\\LG\\AppData\\Local\\Temp\\ipykernel_20112\\2816776095.py:39: DeprecationWarning: find_element_by_xpath is deprecated. Please use find_element(by=By.XPATH, value=xpath) instead\n",
      "  driver.find_element_by_xpath('//*[@id=\"snb\"]/div[2]/ul/li[6]/div/div/a[1]').click()\n"
     ]
    }
   ],
   "source": [
    "# 2020년 1월부터 ~ 2021 11월 현재까지 2년치 네이버 뉴스데이터 기사 크롤링\n",
    "for year in tqdm(range(2020,2021),desc='preprocessing year'):\n",
    "    for month in tqdm(range(1,2),desc='preprocessing month'):\n",
    "        for day in tqdm(range(1,10),desc='preprocessing day'):\n",
    "            try:\n",
    "                res = select_date_naver_news(year=year,month=month,day=day)\n",
    "                naver_news_link.append(res)\n",
    "                print(res)\n",
    "            except:\n",
    "                print(\"endend\")\n",
    "                pass"
   ]
  },
  {
   "cell_type": "code",
   "execution_count": null,
   "id": "e8bd8a7c",
   "metadata": {},
   "outputs": [],
   "source": [
    "naver_news_link"
   ]
  },
  {
   "cell_type": "code",
   "execution_count": null,
   "id": "94613aab",
   "metadata": {},
   "outputs": [],
   "source": [
    "#  가상 크롬 드라이버를 불러옴\n",
    "driver = webdriver.Chrome(\"D:\\chromeDriver\\chromedriver_win32\\chromedriver.exe\")\n",
    "\n",
    "naver_news_title = []\n",
    "naver_news_content = []\n",
    "\n",
    "for n in tqdm(range(len(naver_news_link)),desc='preprocessing'):\n",
    "    news_page_title = []\n",
    "    news_page_content = []\n",
    "\n",
    "    for idx in range(len(naver_news_link[n])):\n",
    "        \n",
    "        ######## 긇어온 URL로 접속하기 ########\n",
    "        try:\n",
    "            driver.get(naver_news_link[n][idx])\n",
    "        except:\n",
    "            print(\"Time Out!\")\n",
    "            continue\n",
    "\n",
    "        ######## 접속한 URL에서 page_source받아오기 ########\n",
    "        try:\n",
    "            response = driver.page_source\n",
    "        except UnexpectedAlertPresentException:\n",
    "            driver.switch_to_alert().alert()\n",
    "            print(\"게시글이 삭제된 경우입니다.\")\n",
    "            continue\n",
    "        soup = BeautifulSoup(response,'html.parser')\n",
    "\n",
    "        ##### 뉴스 타이틀 긇어오기 #####\n",
    "        title = None\n",
    "        try:\n",
    "            item = soup.find('div',class_='article_info')\n",
    "            title = item.find('h3', class_='tts_head').get_text()\n",
    "        except:\n",
    "            title = \"OUT_LINK\"\n",
    "        \n",
    "        news_page_title.append(title)\n",
    "\n",
    "        ###### 뉴스 본문 긇어오기 #####\n",
    "        doc = None\n",
    "        text = ''\n",
    "\n",
    "        data = soup.find_all(\"div\",{\"class\":\"_article_body_contents\"})\n",
    "        if data:\n",
    "            for item in data:\n",
    "                if item.find('script',type='text/javascript'):\n",
    "                    item.find('script',type='text/javascript').decompose()\n",
    "                elif item.find('span','end_photo_org'):\n",
    "                    item.find('span','end_photo_org').decompose()\n",
    "                text = item.get_text()\n",
    "                doc = ''.join(text)\n",
    "        else:\n",
    "            doc = \"OUT_LINK\"\n",
    "\n",
    "        news_page_content.append(doc.replace('\\n',' '))\n",
    "\n",
    "    naver_news_title.append(news_page_title)\n",
    "    naver_news_content.append(news_page_content)\n",
    "\n",
    "    time.sleep(2)"
   ]
  },
  {
   "cell_type": "code",
   "execution_count": null,
   "id": "a18ac7cc",
   "metadata": {},
   "outputs": [],
   "source": [
    "naver_news_title"
   ]
  },
  {
   "cell_type": "code",
   "execution_count": null,
   "id": "a95e2c35",
   "metadata": {},
   "outputs": [],
   "source": [
    "naver_news_content"
   ]
  }
 ],
 "metadata": {
  "kernelspec": {
   "display_name": "Python 3 (ipykernel)",
   "language": "python",
   "name": "python3"
  },
  "language_info": {
   "codemirror_mode": {
    "name": "ipython",
    "version": 3
   },
   "file_extension": ".py",
   "mimetype": "text/x-python",
   "name": "python",
   "nbconvert_exporter": "python",
   "pygments_lexer": "ipython3",
   "version": "3.9.7"
  }
 },
 "nbformat": 4,
 "nbformat_minor": 5
}
